{
 "cells": [
  {
   "cell_type": "code",
   "execution_count": 10,
   "id": "a613f152",
   "metadata": {},
   "outputs": [
    {
     "name": "stdout",
     "output_type": "stream",
     "text": [
      "   Apps  Accept  Enroll  Top10perc  Top25perc  F.Undergrad  P.Undergrad  \\\n",
      "0  1660    1232     721         23         52         2885          537   \n",
      "1  2186    1924     512         16         29         2683         1227   \n",
      "2  1428    1097     336         22         50         1036           99   \n",
      "3   417     349     137         60         89          510           63   \n",
      "4   193     146      55         16         44          249          869   \n",
      "\n",
      "   Outstate  Room.Board  Books  Personal  PhD  Terminal  S.F.Ratio  \\\n",
      "0      7440        3300    450      2200   70        78       18.1   \n",
      "1     12280        6450    750      1500   29        30       12.2   \n",
      "2     11250        3750    400      1165   53        66       12.9   \n",
      "3     12960        5450    450       875   92        97        7.7   \n",
      "4      7560        4120    800      1500   76        72       11.9   \n",
      "\n",
      "   perc.alumni  Expend  Grad.Rate  \n",
      "0           12    7041         60  \n",
      "1           16   10527         56  \n",
      "2           30    8735         54  \n",
      "3           37   19016         59  \n",
      "4            2   10922         15  \n",
      "0    Yes\n",
      "1    Yes\n",
      "2    Yes\n",
      "3    Yes\n",
      "4    Yes\n",
      "Name: Private, dtype: object\n",
      "[[ 37   4]\n",
      " [  6 109]]\n",
      "SVM Accuracy:  0.9358974358974359\n"
     ]
    }
   ],
   "source": [
    "# predict the private/public status of the college from other attributes\n",
    "import numpy as np\n",
    "import pandas as pd\n",
    "\n",
    "\n",
    "dataset =  pd.read_csv(\"C:/Users/manju/Desktop/BDAT/sem2/business intelligence/assignments/College.csv\")\n",
    "x = dataset.iloc[:, 1:18]\n",
    "y = dataset.iloc[:,0]\n",
    "print(x.head())\n",
    "print(y.head())\n",
    "\n",
    "from sklearn.model_selection import train_test_split\n",
    "\n",
    "# Splitting the data\n",
    "x_train, x_test, y_train, y_test = train_test_split(x, y, test_size = 0.2, random_state = 0)\n",
    "from sklearn.preprocessing import StandardScaler\n",
    "sc=StandardScaler()\n",
    "x_train=sc.fit_transform(x_train)\n",
    "x_test=sc.fit_transform(x_test)\n",
    "\n",
    "from sklearn.linear_model import LogisticRegression\n",
    "classifier = LogisticRegression()\n",
    "from sklearn.linear_model import LinearRegression\n",
    "classifier = LogisticRegression(random_state=0)\n",
    "classifier.fit(x_train,y_train)\n",
    "y_pred= classifier.predict(x_test)\n",
    "from sklearn.metrics import confusion_matrix\n",
    "cm=confusion_matrix(y_test,y_pred)\n",
    "print(cm)\n",
    "from sklearn.metrics import accuracy_score\n",
    "print(\"SVM Accuracy: \", accuracy_score(y_test, y_pred))\n"
   ]
  },
  {
   "cell_type": "code",
   "execution_count": 11,
   "id": "295b4c9a",
   "metadata": {},
   "outputs": [
    {
     "name": "stdout",
     "output_type": "stream",
     "text": [
      "   Accept  Enroll  Top10perc  Top25perc  F.Undergrad  P.Undergrad  Outstate  \\\n",
      "0    1232     721         23         52         2885          537      7440   \n",
      "1    1924     512         16         29         2683         1227     12280   \n",
      "2    1097     336         22         50         1036           99     11250   \n",
      "3     349     137         60         89          510           63     12960   \n",
      "4     146      55         16         44          249          869      7560   \n",
      "\n",
      "   Room.Board  Books  Personal  PhD  Terminal  S.F.Ratio  perc.alumni  Expend  \\\n",
      "0        3300    450      2200   70        78       18.1           12    7041   \n",
      "1        6450    750      1500   29        30       12.2           16   10527   \n",
      "2        3750    400      1165   53        66       12.9           30    8735   \n",
      "3        5450    450       875   92        97        7.7           37   19016   \n",
      "4        4120    800      1500   76        72       11.9            2   10922   \n",
      "\n",
      "   Grad.Rate  \n",
      "0         60  \n",
      "1         56  \n",
      "2         54  \n",
      "3         59  \n",
      "4         15  \n",
      "0    1\n",
      "1    1\n",
      "2    1\n",
      "3    1\n",
      "4    1\n",
      "Name: Private, dtype: int32\n",
      "(621, 16)\n",
      "(621,)\n",
      "(156, 16)\n",
      "(156,)\n",
      "SVM Accuracy:  0.9294871794871795\n"
     ]
    }
   ],
   "source": [
    "# encode the target variable in to numerical form and split the data such \tthat 20% of the data is set aside for testing\n",
    "# & Accuracy Obervation by linear svm from scikit learn\n",
    "\n",
    "import pandas as pd\n",
    "from sklearn.preprocessing import LabelEncoder\n",
    "import random\n",
    "\n",
    "data = pd.read_csv(\"C:/Users/manju/Desktop/BDAT/sem2/business intelligence/assignments/College.csv\")# Reading the csv data\n",
    "labelencoder = LabelEncoder()  # Creating Label Encoder instance\n",
    "data['Private'] = labelencoder.fit_transform(data['Private'])  # Transforming the target variable - Private\n",
    "#print(data.head())\n",
    "\n",
    "random.seed(0)\n",
    "x = data.iloc[:,2:]\n",
    "y = data.iloc[:,0]\n",
    "print(x.head())\n",
    "print(y.head())\n",
    "\n",
    "from sklearn.model_selection import train_test_split\n",
    "\n",
    "# Splitting the data\n",
    "x_train, x_test, y_train, y_test = train_test_split(x, y, test_size = 0.2, random_state = 0)\n",
    "print(x_train.shape)\n",
    "print(y_train.shape)\n",
    "print(x_test.shape)\n",
    "print(y_test.shape)\n",
    "\n",
    "from sklearn import svm\n",
    "\n",
    "model = svm.SVC(kernel = 'linear')  # Creating the SVM model\n",
    "model.fit(x_train, y_train)  # Training the model\n",
    "predicted = model.predict(x_test)\n",
    "\n",
    "from sklearn.metrics import accuracy_score\n",
    "print(\"SVM Accuracy: \", accuracy_score(y_test, predicted))  # Getting the accuracy of prediction"
   ]
  },
  {
   "cell_type": "code",
   "execution_count": 14,
   "id": "2b0f3ab8",
   "metadata": {},
   "outputs": [
    {
     "data": {
      "text/plain": [
       "0.9562419562419563"
      ]
     },
     "execution_count": 14,
     "metadata": {},
     "output_type": "execute_result"
    }
   ],
   "source": [
    "#Preprocess the data using StandardScalar and fit the same model again and observe the change in accuracy\n",
    "\n",
    "import pandas as pd\n",
    "from sklearn.preprocessing import StandardScaler\n",
    "from sklearn.model_selection import train_test_split\n",
    "scaler = StandardScaler()\n",
    "from sklearn.svm import SVC\n",
    "df = pd.read_csv(\"C:/Users/manju/Desktop/BDAT/sem2/business intelligence/assignments/College.csv\")\n",
    "\n",
    "from sklearn.preprocessing import StandardScaler\n",
    "scaler = StandardScaler()\n",
    "scaler.fit(df.drop('Private', axis = 1))\n",
    "scaled_feature = scaler.transform(df.drop('Private', axis = 1))\n",
    "scaled_data = pd.DataFrame(scaled_feature, columns = df.columns[1:])\n",
    "\n",
    "X = scaled_data\n",
    "y = df['Private']\n",
    "\n",
    "X_train, X_test, y_train, y_test = train_test_split(X, y, test_size=0.2, random_state=0)\n",
    "\n",
    "model1 = SVC()\n",
    "model1.fit(X_train, y_train)\n",
    "predictions1 = model1.predict(X_test)\n",
    "model1.score(X, y)"
   ]
  },
  {
   "cell_type": "code",
   "execution_count": null,
   "id": "3f029bb3",
   "metadata": {},
   "outputs": [
    {
     "name": "stdout",
     "output_type": "stream",
     "text": [
      "Fitting 5 folds for each of 8 candidates, totalling 40 fits\n"
     ]
    }
   ],
   "source": [
    "#scikit learn’s gridsearch to select the best hyperparameter for a non-linear SVM, identify the model with best score and its parameters\n",
    "#import all necessary libraries\n",
    "import sklearn\n",
    "import pandas as pd\n",
    "from sklearn.metrics import classification_report, confusion_matrix \n",
    "from sklearn.svm import SVC \n",
    "from sklearn.model_selection import GridSearchCV\n",
    "from sklearn.model_selection import train_test_split \n",
    " \n",
    "#load the dataset and split it into training and testing sets\n",
    "dataset = pd.read_csv(\"C:/Users/manju/Desktop/BDAT/sem2/business intelligence/assignments/College.csv\")\n",
    "\n",
    "X=dataset.drop('Private', axis=1)\n",
    "Y=dataset['Private']\n",
    "\n",
    "X_train, X_test, y_train, y_test = train_test_split( \n",
    "                        X,Y,test_size = 0.2, random_state = 0) \n",
    "\n",
    "# defining parameter range \n",
    "param_grid = {'C': [0.1, 1, 10, 100],  \n",
    "              'gamma': [1, 0.1, 0.01, 0.001, 0.0001], \n",
    "              'gamma':['scale', 'auto'],\n",
    "              'kernel': ['linear']}  \n",
    "   \n",
    "grid = GridSearchCV(SVC(), param_grid, refit = True, verbose = 3,n_jobs=-1) \n",
    "   \n",
    "# fitting the model for grid search \n",
    "grid.fit(X_train, y_train) \n",
    " \n",
    "# print best parameter after tuning \n",
    "print(grid.best_params_) \n",
    "grid_predictions = grid.predict(X_test) \n",
    "   \n",
    "# print classification report \n",
    "print(classification_report(y_test, grid_predictions))"
   ]
  },
  {
   "cell_type": "code",
   "execution_count": null,
   "id": "4fd9c19d",
   "metadata": {},
   "outputs": [],
   "source": []
  }
 ],
 "metadata": {
  "kernelspec": {
   "display_name": "Python 3",
   "language": "python",
   "name": "python3"
  },
  "language_info": {
   "codemirror_mode": {
    "name": "ipython",
    "version": 3
   },
   "file_extension": ".py",
   "mimetype": "text/x-python",
   "name": "python",
   "nbconvert_exporter": "python",
   "pygments_lexer": "ipython3",
   "version": "3.8.8"
  }
 },
 "nbformat": 4,
 "nbformat_minor": 5
}
